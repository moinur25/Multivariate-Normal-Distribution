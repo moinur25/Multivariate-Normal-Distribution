{
  "nbformat": 4,
  "nbformat_minor": 0,
  "metadata": {
    "colab": {
      "provenance": [],
      "authorship_tag": "ABX9TyOQHoVUn2iGPzoq4IoMeEWt",
      "include_colab_link": true
    },
    "kernelspec": {
      "name": "ir",
      "display_name": "R"
    },
    "language_info": {
      "name": "R"
    }
  },
  "cells": [
    {
      "cell_type": "markdown",
      "metadata": {
        "id": "view-in-github",
        "colab_type": "text"
      },
      "source": [
        "<a href=\"https://colab.research.google.com/github/moinur25/Multivariate-Normal-Distribution/blob/main/Multivariate_Normal_Distribution.ipynb\" target=\"_parent\"><img src=\"https://colab.research.google.com/assets/colab-badge.svg\" alt=\"Open In Colab\"/></a>"
      ]
    },
    {
      "cell_type": "markdown",
      "source": [
        "**Checking Mulivariate Normality**"
      ],
      "metadata": {
        "id": "BMCw3aOwHYYF"
      }
    },
    {
      "cell_type": "code",
      "execution_count": 2,
      "metadata": {
        "id": "Y3OsZGaW_GNq"
      },
      "outputs": [],
      "source": [
        "dt<-read.csv(\"/content/Table-1.4.csv\")"
      ]
    },
    {
      "cell_type": "code",
      "source": [
        "View(dt)"
      ],
      "metadata": {
        "colab": {
          "base_uri": "https://localhost:8080/",
          "height": 411
        },
        "id": "u_7W6mVRF-GQ",
        "outputId": "d478a0f9-18fb-4b8a-dcc0-f5fe196849ac"
      },
      "execution_count": 3,
      "outputs": [
        {
          "output_type": "display_data",
          "data": {
            "text/plain": [
              "   x1     x2    x3     \n",
              "1  108.28 17.05 1484.10\n",
              "2  152.36 16.59  750.33\n",
              "3   95.04 10.91  766.42\n",
              "4   65.45 14.14 1110.46\n",
              "5   62.97  9.52 1031.29\n",
              "6  263.99 25.33  195.26\n",
              "7  265.19 18.54  193.83\n",
              "8  285.06 15.73  191.11\n",
              "9   92.01  8.10 1175.16\n",
              "10 165.68 11.13  211.15"
            ],
            "text/html": [
              "<table class=\"dataframe\">\n",
              "<caption>A data.frame: 10 × 3</caption>\n",
              "<thead>\n",
              "\t<tr><th scope=col>x1</th><th scope=col>x2</th><th scope=col>x3</th></tr>\n",
              "\t<tr><th scope=col>&lt;dbl&gt;</th><th scope=col>&lt;dbl&gt;</th><th scope=col>&lt;dbl&gt;</th></tr>\n",
              "</thead>\n",
              "<tbody>\n",
              "\t<tr><td>108.28</td><td>17.05</td><td>1484.10</td></tr>\n",
              "\t<tr><td>152.36</td><td>16.59</td><td> 750.33</td></tr>\n",
              "\t<tr><td> 95.04</td><td>10.91</td><td> 766.42</td></tr>\n",
              "\t<tr><td> 65.45</td><td>14.14</td><td>1110.46</td></tr>\n",
              "\t<tr><td> 62.97</td><td> 9.52</td><td>1031.29</td></tr>\n",
              "\t<tr><td>263.99</td><td>25.33</td><td> 195.26</td></tr>\n",
              "\t<tr><td>265.19</td><td>18.54</td><td> 193.83</td></tr>\n",
              "\t<tr><td>285.06</td><td>15.73</td><td> 191.11</td></tr>\n",
              "\t<tr><td> 92.01</td><td> 8.10</td><td>1175.16</td></tr>\n",
              "\t<tr><td>165.68</td><td>11.13</td><td> 211.15</td></tr>\n",
              "</tbody>\n",
              "</table>\n"
            ],
            "text/markdown": "\nA data.frame: 10 × 3\n\n| x1 &lt;dbl&gt; | x2 &lt;dbl&gt; | x3 &lt;dbl&gt; |\n|---|---|---|\n| 108.28 | 17.05 | 1484.10 |\n| 152.36 | 16.59 |  750.33 |\n|  95.04 | 10.91 |  766.42 |\n|  65.45 | 14.14 | 1110.46 |\n|  62.97 |  9.52 | 1031.29 |\n| 263.99 | 25.33 |  195.26 |\n| 265.19 | 18.54 |  193.83 |\n| 285.06 | 15.73 |  191.11 |\n|  92.01 |  8.10 | 1175.16 |\n| 165.68 | 11.13 |  211.15 |\n\n",
            "text/latex": "A data.frame: 10 × 3\n\\begin{tabular}{lll}\n x1 & x2 & x3\\\\\n <dbl> & <dbl> & <dbl>\\\\\n\\hline\n\t 108.28 & 17.05 & 1484.10\\\\\n\t 152.36 & 16.59 &  750.33\\\\\n\t  95.04 & 10.91 &  766.42\\\\\n\t  65.45 & 14.14 & 1110.46\\\\\n\t  62.97 &  9.52 & 1031.29\\\\\n\t 263.99 & 25.33 &  195.26\\\\\n\t 265.19 & 18.54 &  193.83\\\\\n\t 285.06 & 15.73 &  191.11\\\\\n\t  92.01 &  8.10 & 1175.16\\\\\n\t 165.68 & 11.13 &  211.15\\\\\n\\end{tabular}\n"
          },
          "metadata": {}
        }
      ]
    },
    {
      "cell_type": "code",
      "source": [
        "plot(dt)"
      ],
      "metadata": {
        "colab": {
          "base_uri": "https://localhost:8080/",
          "height": 437
        },
        "id": "umPmtEKdGKNb",
        "outputId": "3dcf4ea8-aea4-46b5-e85e-95743306acad"
      },
      "execution_count": 4,
      "outputs": [
        {
          "output_type": "display_data",
          "data": {
            "text/plain": [
              "plot without title"
            ],
            "image/png": "[encoded data removed]"
          },
          "metadata": {
            "image/png": {
              "width": 420,
              "height": 420
            }
          }
        }
      ]
    },
    {
      "cell_type": "code",
      "source": [
        "boxplot(dt)"
      ],
      "metadata": {
        "colab": {
          "base_uri": "https://localhost:8080/",
          "height": 437
        },
        "id": "GvOY674cGbcR",
        "outputId": "308ad6f2-8bd2-4e24-9e2d-5e7636e3bfac"
      },
      "execution_count": 5,
      "outputs": [
        {
          "output_type": "display_data",
          "data": {
            "text/plain": [
              "plot without title"
            ],
            "image/png": "[encoded data removed]"
          },
          "metadata": {
            "image/png": {
              "width": 420,
              "height": 420
            }
          }
        }
      ]
    },
    {
      "cell_type": "code",
      "source": [
        "sum(is.na(df))"
      ],
      "metadata": {
        "colab": {
          "base_uri": "https://localhost:8080/",
          "height": 69
        },
        "id": "Sk_lXO0VHjPs",
        "outputId": "885348cc-e6c1-491c-f94d-0fd2335bbf3c"
      },
      "execution_count": 6,
      "outputs": [
        {
          "output_type": "stream",
          "name": "stderr",
          "text": [
            "Warning message in is.na(df):\n",
            "“is.na() applied to non-(list or vector) of type 'closure'”\n"
          ]
        },
        {
          "output_type": "display_data",
          "data": {
            "text/html": [
              "0"
            ],
            "text/markdown": "0",
            "text/latex": "0",
            "text/plain": [
              "[1] 0"
            ]
          },
          "metadata": {}
        }
      ]
    },
    {
      "cell_type": "markdown",
      "source": [
        "**Example-4.12**"
      ],
      "metadata": {
        "id": "22qO1Vt9I5z-"
      }
    },
    {
      "cell_type": "code",
      "source": [
        "X1=dt[,1]"
      ],
      "metadata": {
        "id": "rxh6vdzVQ0xo"
      },
      "execution_count": 7,
      "outputs": []
    },
    {
      "cell_type": "code",
      "source": [
        "X2=dt[,2]"
      ],
      "metadata": {
        "id": "BbnfXAd_Q684"
      },
      "execution_count": 8,
      "outputs": []
    },
    {
      "cell_type": "code",
      "source": [
        "X=cbind(X1,X2)\n",
        "X"
      ],
      "metadata": {
        "colab": {
          "base_uri": "https://localhost:8080/",
          "height": 397
        },
        "id": "Ig12gnccK613",
        "outputId": "1ab875b9-f14a-4cb3-e8d8-6e4a9dbe5c58"
      },
      "execution_count": 9,
      "outputs": [
        {
          "output_type": "display_data",
          "data": {
            "text/html": [
              "<table class=\"dataframe\">\n",
              "<caption>A matrix: 10 × 2 of type dbl</caption>\n",
              "<thead>\n",
              "\t<tr><th scope=col>X1</th><th scope=col>X2</th></tr>\n",
              "</thead>\n",
              "<tbody>\n",
              "\t<tr><td>108.28</td><td>17.05</td></tr>\n",
              "\t<tr><td>152.36</td><td>16.59</td></tr>\n",
              "\t<tr><td> 95.04</td><td>10.91</td></tr>\n",
              "\t<tr><td> 65.45</td><td>14.14</td></tr>\n",
              "\t<tr><td> 62.97</td><td> 9.52</td></tr>\n",
              "\t<tr><td>263.99</td><td>25.33</td></tr>\n",
              "\t<tr><td>265.19</td><td>18.54</td></tr>\n",
              "\t<tr><td>285.06</td><td>15.73</td></tr>\n",
              "\t<tr><td> 92.01</td><td> 8.10</td></tr>\n",
              "\t<tr><td>165.68</td><td>11.13</td></tr>\n",
              "</tbody>\n",
              "</table>\n"
            ],
            "text/markdown": "\nA matrix: 10 × 2 of type dbl\n\n| X1 | X2 |\n|---|---|\n| 108.28 | 17.05 |\n| 152.36 | 16.59 |\n|  95.04 | 10.91 |\n|  65.45 | 14.14 |\n|  62.97 |  9.52 |\n| 263.99 | 25.33 |\n| 265.19 | 18.54 |\n| 285.06 | 15.73 |\n|  92.01 |  8.10 |\n| 165.68 | 11.13 |\n\n",
            "text/latex": "A matrix: 10 × 2 of type dbl\n\\begin{tabular}{ll}\n X1 & X2\\\\\n\\hline\n\t 108.28 & 17.05\\\\\n\t 152.36 & 16.59\\\\\n\t  95.04 & 10.91\\\\\n\t  65.45 & 14.14\\\\\n\t  62.97 &  9.52\\\\\n\t 263.99 & 25.33\\\\\n\t 265.19 & 18.54\\\\\n\t 285.06 & 15.73\\\\\n\t  92.01 &  8.10\\\\\n\t 165.68 & 11.13\\\\\n\\end{tabular}\n",
            "text/plain": [
              "      X1     X2   \n",
              " [1,] 108.28 17.05\n",
              " [2,] 152.36 16.59\n",
              " [3,]  95.04 10.91\n",
              " [4,]  65.45 14.14\n",
              " [5,]  62.97  9.52\n",
              " [6,] 263.99 25.33\n",
              " [7,] 265.19 18.54\n",
              " [8,] 285.06 15.73\n",
              " [9,]  92.01  8.10\n",
              "[10,] 165.68 11.13"
            ]
          },
          "metadata": {}
        }
      ]
    },
    {
      "cell_type": "code",
      "source": [
        "X_bar=colMeans(X)\n",
        "X_bar=t(X_bar)\n",
        "X_bar"
      ],
      "metadata": {
        "colab": {
          "base_uri": "https://localhost:8080/",
          "height": 115
        },
        "id": "_dabyzrlH0JU",
        "outputId": "48791727-f16a-403f-dd02-255455711220"
      },
      "execution_count": 10,
      "outputs": [
        {
          "output_type": "display_data",
          "data": {
            "text/html": [
              "<table class=\"dataframe\">\n",
              "<caption>A matrix: 1 × 2 of type dbl</caption>\n",
              "<thead>\n",
              "\t<tr><th scope=col>X1</th><th scope=col>X2</th></tr>\n",
              "</thead>\n",
              "<tbody>\n",
              "\t<tr><td>155.603</td><td>14.704</td></tr>\n",
              "</tbody>\n",
              "</table>\n"
            ],
            "text/markdown": "\nA matrix: 1 × 2 of type dbl\n\n| X1 | X2 |\n|---|---|\n| 155.603 | 14.704 |\n\n",
            "text/latex": "A matrix: 1 × 2 of type dbl\n\\begin{tabular}{ll}\n X1 & X2\\\\\n\\hline\n\t 155.603 & 14.704\\\\\n\\end{tabular}\n",
            "text/plain": [
              "     X1      X2    \n",
              "[1,] 155.603 14.704"
            ]
          },
          "metadata": {}
        }
      ]
    },
    {
      "cell_type": "code",
      "source": [
        "S=cov(X)\n",
        "S"
      ],
      "metadata": {
        "colab": {
          "base_uri": "https://localhost:8080/",
          "height": 129
        },
        "id": "BMRY05sPKsgQ",
        "outputId": "e6e1a950-7449-4a7a-dc16-0a6a2bf5addd"
      },
      "execution_count": 11,
      "outputs": [
        {
          "output_type": "display_data",
          "data": {
            "text/html": [
              "<table class=\"dataframe\">\n",
              "<caption>A matrix: 2 × 2 of type dbl</caption>\n",
              "<thead>\n",
              "\t<tr><th></th><th scope=col>X1</th><th scope=col>X2</th></tr>\n",
              "</thead>\n",
              "<tbody>\n",
              "\t<tr><th scope=row>X1</th><td>7476.4532</td><td>303.61862</td></tr>\n",
              "\t<tr><th scope=row>X2</th><td> 303.6186</td><td> 26.19032</td></tr>\n",
              "</tbody>\n",
              "</table>\n"
            ],
            "text/markdown": "\nA matrix: 2 × 2 of type dbl\n\n| <!--/--> | X1 | X2 |\n|---|---|---|\n| X1 | 7476.4532 | 303.61862 |\n| X2 |  303.6186 |  26.19032 |\n\n",
            "text/latex": "A matrix: 2 × 2 of type dbl\n\\begin{tabular}{r|ll}\n  & X1 & X2\\\\\n\\hline\n\tX1 & 7476.4532 & 303.61862\\\\\n\tX2 &  303.6186 &  26.19032\\\\\n\\end{tabular}\n",
            "text/plain": [
              "   X1        X2       \n",
              "X1 7476.4532 303.61862\n",
              "X2  303.6186  26.19032"
            ]
          },
          "metadata": {}
        }
      ]
    },
    {
      "cell_type": "code",
      "source": [
        "S_inv=solve(S)\n",
        "S_inv"
      ],
      "metadata": {
        "colab": {
          "base_uri": "https://localhost:8080/",
          "height": 129
        },
        "id": "oMRgH0PAMRHp",
        "outputId": "70e143be-43dc-442e-968d-198dc96aada1"
      },
      "execution_count": 12,
      "outputs": [
        {
          "output_type": "display_data",
          "data": {
            "text/html": [
              "<table class=\"dataframe\">\n",
              "<caption>A matrix: 2 × 2 of type dbl</caption>\n",
              "<thead>\n",
              "\t<tr><th></th><th scope=col>X1</th><th scope=col>X2</th></tr>\n",
              "</thead>\n",
              "<tbody>\n",
              "\t<tr><th scope=row>X1</th><td> 0.0002527379</td><td>-0.002929935</td></tr>\n",
              "\t<tr><th scope=row>X2</th><td>-0.0029299349</td><td> 0.072148150</td></tr>\n",
              "</tbody>\n",
              "</table>\n"
            ],
            "text/markdown": "\nA matrix: 2 × 2 of type dbl\n\n| <!--/--> | X1 | X2 |\n|---|---|---|\n| X1 |  0.0002527379 | -0.002929935 |\n| X2 | -0.0029299349 |  0.072148150 |\n\n",
            "text/latex": "A matrix: 2 × 2 of type dbl\n\\begin{tabular}{r|ll}\n  & X1 & X2\\\\\n\\hline\n\tX1 &  0.0002527379 & -0.002929935\\\\\n\tX2 & -0.0029299349 &  0.072148150\\\\\n\\end{tabular}\n",
            "text/plain": [
              "   X1            X2          \n",
              "X1  0.0002527379 -0.002929935\n",
              "X2 -0.0029299349  0.072148150"
            ]
          },
          "metadata": {}
        }
      ]
    },
    {
      "cell_type": "code",
      "source": [
        "(X[1,]-X_bar) #1x2 dim"
      ],
      "metadata": {
        "colab": {
          "base_uri": "https://localhost:8080/",
          "height": 115
        },
        "id": "fMvViTv_OYzr",
        "outputId": "7cec8fe4-6894-4b06-8b0a-96dd370e80fa"
      },
      "execution_count": 13,
      "outputs": [
        {
          "output_type": "display_data",
          "data": {
            "text/html": [
              "<table class=\"dataframe\">\n",
              "<caption>A matrix: 1 × 2 of type dbl</caption>\n",
              "<thead>\n",
              "\t<tr><th scope=col>X1</th><th scope=col>X2</th></tr>\n",
              "</thead>\n",
              "<tbody>\n",
              "\t<tr><td>-47.323</td><td>2.346</td></tr>\n",
              "</tbody>\n",
              "</table>\n"
            ],
            "text/markdown": "\nA matrix: 1 × 2 of type dbl\n\n| X1 | X2 |\n|---|---|\n| -47.323 | 2.346 |\n\n",
            "text/latex": "A matrix: 1 × 2 of type dbl\n\\begin{tabular}{ll}\n X1 & X2\\\\\n\\hline\n\t -47.323 & 2.346\\\\\n\\end{tabular}\n",
            "text/plain": [
              "     X1      X2   \n",
              "[1,] -47.323 2.346"
            ]
          },
          "metadata": {}
        }
      ]
    },
    {
      "cell_type": "code",
      "source": [
        "n=length(dt$x1)\n",
        "n"
      ],
      "metadata": {
        "colab": {
          "base_uri": "https://localhost:8080/",
          "height": 34
        },
        "id": "UgHg9F0LPNci",
        "outputId": "3544f87f-9ec4-4b05-d30a-4911f90230d5"
      },
      "execution_count": 14,
      "outputs": [
        {
          "output_type": "display_data",
          "data": {
            "text/html": [
              "10"
            ],
            "text/markdown": "10",
            "text/latex": "10",
            "text/plain": [
              "[1] 10"
            ]
          },
          "metadata": {}
        }
      ]
    },
    {
      "cell_type": "code",
      "source": [
        "D2=matrix(0,nrow=10,ncol=1) #Here The length of x1 is 10\n",
        "\n"
      ],
      "metadata": {
        "id": "xcnpwMyHMhFa"
      },
      "execution_count": 15,
      "outputs": []
    },
    {
      "cell_type": "code",
      "source": [
        "for (i in 1:n){\n",
        "  D2[i]=(X[i,]-X_bar)%*%S_inv%*%t(X[i,]-X_bar)\n",
        "}"
      ],
      "metadata": {
        "id": "vYZtcPUTNqLz"
      },
      "execution_count": 16,
      "outputs": []
    },
    {
      "cell_type": "code",
      "source": [
        "D2"
      ],
      "metadata": {
        "colab": {
          "base_uri": "https://localhost:8080/",
          "height": 383
        },
        "id": "p_lYbOfjR8Jm",
        "outputId": "9f45bf87-673f-4321-d743-f3e2471c4ba4"
      },
      "execution_count": 17,
      "outputs": [
        {
          "output_type": "display_data",
          "data": {
            "text/html": [
              "<table class=\"dataframe\">\n",
              "<caption>A matrix: 10 × 1 of type dbl</caption>\n",
              "<tbody>\n",
              "\t<tr><td>1.6136422</td></tr>\n",
              "\t<tr><td>0.2951294</td></tr>\n",
              "\t<tr><td>0.6190857</td></tr>\n",
              "\t<tr><td>1.7791404</td></tr>\n",
              "\t<tr><td>1.2936454</td></tr>\n",
              "\t<tr><td>4.3665512</td></tr>\n",
              "\t<tr><td>1.6335129</td></tr>\n",
              "\t<tr><td>3.5332867</td></tr>\n",
              "\t<tr><td>1.7077146</td></tr>\n",
              "\t<tr><td>1.1582915</td></tr>\n",
              "</tbody>\n",
              "</table>\n"
            ],
            "text/markdown": "\nA matrix: 10 × 1 of type dbl\n\n| 1.6136422 |\n| 0.2951294 |\n| 0.6190857 |\n| 1.7791404 |\n| 1.2936454 |\n| 4.3665512 |\n| 1.6335129 |\n| 3.5332867 |\n| 1.7077146 |\n| 1.1582915 |\n\n",
            "text/latex": "A matrix: 10 × 1 of type dbl\n\\begin{tabular}{l}\n\t 1.6136422\\\\\n\t 0.2951294\\\\\n\t 0.6190857\\\\\n\t 1.7791404\\\\\n\t 1.2936454\\\\\n\t 4.3665512\\\\\n\t 1.6335129\\\\\n\t 3.5332867\\\\\n\t 1.7077146\\\\\n\t 1.1582915\\\\\n\\end{tabular}\n",
            "text/plain": [
              "      [,1]     \n",
              " [1,] 1.6136422\n",
              " [2,] 0.2951294\n",
              " [3,] 0.6190857\n",
              " [4,] 1.7791404\n",
              " [5,] 1.2936454\n",
              " [6,] 4.3665512\n",
              " [7,] 1.6335129\n",
              " [8,] 3.5332867\n",
              " [9,] 1.7077146\n",
              "[10,] 1.1582915"
            ]
          },
          "metadata": {}
        }
      ]
    },
    {
      "cell_type": "code",
      "source": [
        "chi<-qchisq(0.50,2)\n",
        "chi"
      ],
      "metadata": {
        "colab": {
          "base_uri": "https://localhost:8080/",
          "height": 34
        },
        "id": "EHf02x_-SDr1",
        "outputId": "33d47f10-cc86-47cd-c084-cba7c1064079"
      },
      "execution_count": 18,
      "outputs": [
        {
          "output_type": "display_data",
          "data": {
            "text/html": [
              "1.38629436111989"
            ],
            "text/markdown": "1.38629436111989",
            "text/latex": "1.38629436111989",
            "text/plain": [
              "[1] 1.386294"
            ]
          },
          "metadata": {}
        }
      ]
    },
    {
      "cell_type": "code",
      "source": [
        "Out1<-ifelse(D2<=chi,0,1)\n",
        "sum(Out1)/n"
      ],
      "metadata": {
        "colab": {
          "base_uri": "https://localhost:8080/",
          "height": 34
        },
        "id": "IDnb_bsMTDB2",
        "outputId": "dae6524d-99b0-47c0-c76c-dd382c9dccb8"
      },
      "execution_count": 19,
      "outputs": [
        {
          "output_type": "display_data",
          "data": {
            "text/html": [
              "0.6"
            ],
            "text/markdown": "0.6",
            "text/latex": "0.6",
            "text/plain": [
              "[1] 0.6"
            ]
          },
          "metadata": {}
        }
      ]
    },
    {
      "cell_type": "markdown",
      "source": [
        "Here 0.4 of the data falls within the 50% contour.if the observation were normally distributed, we would expect about half,or 5, of them to be within this contour.we can fixed the decision that this data is not normally distributed."
      ],
      "metadata": {
        "id": "IysS2cQMzjKh"
      }
    },
    {
      "cell_type": "markdown",
      "source": [
        "**Q-Q plot (Other way to check bivariate  normal dist)**\n"
      ],
      "metadata": {
        "id": "RW_QFodHWK1_"
      }
    },
    {
      "cell_type": "code",
      "source": [
        "rm(list=ls())"
      ],
      "metadata": {
        "id": "6g_V-irLUmNj"
      },
      "execution_count": 106,
      "outputs": []
    },
    {
      "cell_type": "code",
      "source": [
        "y=read.csv(\"/content/Table-1.4.csv\")\n",
        "x=t(t(y))\n",
        "x"
      ],
      "metadata": {
        "colab": {
          "base_uri": "https://localhost:8080/",
          "height": 380
        },
        "id": "h1H2C34DWx4Z",
        "outputId": "2866ef3e-3a07-4604-b03e-b9c4281ef749"
      },
      "execution_count": 109,
      "outputs": [
        {
          "output_type": "display_data",
          "data": {
            "text/html": [
              "<table class=\"dataframe\">\n",
              "<caption>A matrix: 10 × 3 of type dbl</caption>\n",
              "<thead>\n",
              "\t<tr><th scope=col>x1</th><th scope=col>x2</th><th scope=col>x3</th></tr>\n",
              "</thead>\n",
              "<tbody>\n",
              "\t<tr><td>108.28</td><td>17.05</td><td>1484.10</td></tr>\n",
              "\t<tr><td>152.36</td><td>16.59</td><td> 750.33</td></tr>\n",
              "\t<tr><td> 95.04</td><td>10.91</td><td> 766.42</td></tr>\n",
              "\t<tr><td> 65.45</td><td>14.14</td><td>1110.46</td></tr>\n",
              "\t<tr><td> 62.97</td><td> 9.52</td><td>1031.29</td></tr>\n",
              "\t<tr><td>263.99</td><td>25.33</td><td> 195.26</td></tr>\n",
              "\t<tr><td>265.19</td><td>18.54</td><td> 193.83</td></tr>\n",
              "\t<tr><td>285.06</td><td>15.73</td><td> 191.11</td></tr>\n",
              "\t<tr><td> 92.01</td><td> 8.10</td><td>1175.16</td></tr>\n",
              "\t<tr><td>165.68</td><td>11.13</td><td> 211.15</td></tr>\n",
              "</tbody>\n",
              "</table>\n"
            ],
            "text/markdown": "\nA matrix: 10 × 3 of type dbl\n\n| x1 | x2 | x3 |\n|---|---|---|\n| 108.28 | 17.05 | 1484.10 |\n| 152.36 | 16.59 |  750.33 |\n|  95.04 | 10.91 |  766.42 |\n|  65.45 | 14.14 | 1110.46 |\n|  62.97 |  9.52 | 1031.29 |\n| 263.99 | 25.33 |  195.26 |\n| 265.19 | 18.54 |  193.83 |\n| 285.06 | 15.73 |  191.11 |\n|  92.01 |  8.10 | 1175.16 |\n| 165.68 | 11.13 |  211.15 |\n\n",
            "text/latex": "A matrix: 10 × 3 of type dbl\n\\begin{tabular}{lll}\n x1 & x2 & x3\\\\\n\\hline\n\t 108.28 & 17.05 & 1484.10\\\\\n\t 152.36 & 16.59 &  750.33\\\\\n\t  95.04 & 10.91 &  766.42\\\\\n\t  65.45 & 14.14 & 1110.46\\\\\n\t  62.97 &  9.52 & 1031.29\\\\\n\t 263.99 & 25.33 &  195.26\\\\\n\t 265.19 & 18.54 &  193.83\\\\\n\t 285.06 & 15.73 &  191.11\\\\\n\t  92.01 &  8.10 & 1175.16\\\\\n\t 165.68 & 11.13 &  211.15\\\\\n\\end{tabular}\n",
            "text/plain": [
              "      x1     x2    x3     \n",
              " [1,] 108.28 17.05 1484.10\n",
              " [2,] 152.36 16.59  750.33\n",
              " [3,]  95.04 10.91  766.42\n",
              " [4,]  65.45 14.14 1110.46\n",
              " [5,]  62.97  9.52 1031.29\n",
              " [6,] 263.99 25.33  195.26\n",
              " [7,] 265.19 18.54  193.83\n",
              " [8,] 285.06 15.73  191.11\n",
              " [9,]  92.01  8.10 1175.16\n",
              "[10,] 165.68 11.13  211.15"
            ]
          },
          "metadata": {}
        }
      ]
    },
    {
      "cell_type": "code",
      "source": [
        "xj=sort(x,decreasing = F)\n",
        "n=length(xj)"
      ],
      "metadata": {
        "id": "_BkYw6mTXClf"
      },
      "execution_count": 110,
      "outputs": []
    },
    {
      "cell_type": "code",
      "source": [
        "j=matrix(seq(1,n),n,1)\n",
        "qj=qnorm((j-0.5)/n)"
      ],
      "metadata": {
        "id": "OC5PLKLIXW5G"
      },
      "execution_count": 111,
      "outputs": []
    },
    {
      "cell_type": "code",
      "source": [
        "plot(qj,xj)"
      ],
      "metadata": {
        "colab": {
          "base_uri": "https://localhost:8080/",
          "height": 437
        },
        "id": "_Q6NLNuCXomV",
        "outputId": "7a6b265c-2973-4dac-f13e-4818e29641db"
      },
      "execution_count": 112,
      "outputs": [
        {
          "output_type": "display_data",
          "data": {
            "text/plain": [
              "plot without title"
            ],
            "image/png": "[encoded data removed]"
          },
          "metadata": {
            "image/png": {
              "width": 420,
              "height": 420
            }
          }
        }
      ]
    },
    {
      "cell_type": "markdown",
      "source": [
        "Above this Q-Q plot, we can take a decision about this data set that this two variable X1 and X2 not follow the bivariate normal distribution."
      ],
      "metadata": {
        "id": "9ut0q1x7yVxc"
      }
    },
    {
      "cell_type": "markdown",
      "source": [
        "**Chi_Square plot for Three variable**"
      ],
      "metadata": {
        "id": "JPuIcHUv0fhA"
      }
    },
    {
      "cell_type": "code",
      "source": [
        "rm(list=ls())"
      ],
      "metadata": {
        "id": "bLL_eUgu20Jo"
      },
      "execution_count": 20,
      "outputs": []
    },
    {
      "cell_type": "code",
      "source": [
        "z=read.csv(\"/content/Table-1.4.csv\")\n",
        "z"
      ],
      "metadata": {
        "colab": {
          "base_uri": "https://localhost:8080/",
          "height": 411
        },
        "id": "2XlohUan43TW",
        "outputId": "450d9d12-9fa6-4608-b8ee-2a574552000c"
      },
      "execution_count": 31,
      "outputs": [
        {
          "output_type": "display_data",
          "data": {
            "text/html": [
              "<table class=\"dataframe\">\n",
              "<caption>A data.frame: 10 × 3</caption>\n",
              "<thead>\n",
              "\t<tr><th scope=col>x1</th><th scope=col>x2</th><th scope=col>x3</th></tr>\n",
              "\t<tr><th scope=col>&lt;dbl&gt;</th><th scope=col>&lt;dbl&gt;</th><th scope=col>&lt;dbl&gt;</th></tr>\n",
              "</thead>\n",
              "<tbody>\n",
              "\t<tr><td>108.28</td><td>17.05</td><td>1484.10</td></tr>\n",
              "\t<tr><td>152.36</td><td>16.59</td><td> 750.33</td></tr>\n",
              "\t<tr><td> 95.04</td><td>10.91</td><td> 766.42</td></tr>\n",
              "\t<tr><td> 65.45</td><td>14.14</td><td>1110.46</td></tr>\n",
              "\t<tr><td> 62.97</td><td> 9.52</td><td>1031.29</td></tr>\n",
              "\t<tr><td>263.99</td><td>25.33</td><td> 195.26</td></tr>\n",
              "\t<tr><td>265.19</td><td>18.54</td><td> 193.83</td></tr>\n",
              "\t<tr><td>285.06</td><td>15.73</td><td> 191.11</td></tr>\n",
              "\t<tr><td> 92.01</td><td> 8.10</td><td>1175.16</td></tr>\n",
              "\t<tr><td>165.68</td><td>11.13</td><td> 211.15</td></tr>\n",
              "</tbody>\n",
              "</table>\n"
            ],
            "text/markdown": "\nA data.frame: 10 × 3\n\n| x1 &lt;dbl&gt; | x2 &lt;dbl&gt; | x3 &lt;dbl&gt; |\n|---|---|---|\n| 108.28 | 17.05 | 1484.10 |\n| 152.36 | 16.59 |  750.33 |\n|  95.04 | 10.91 |  766.42 |\n|  65.45 | 14.14 | 1110.46 |\n|  62.97 |  9.52 | 1031.29 |\n| 263.99 | 25.33 |  195.26 |\n| 265.19 | 18.54 |  193.83 |\n| 285.06 | 15.73 |  191.11 |\n|  92.01 |  8.10 | 1175.16 |\n| 165.68 | 11.13 |  211.15 |\n\n",
            "text/latex": "A data.frame: 10 × 3\n\\begin{tabular}{lll}\n x1 & x2 & x3\\\\\n <dbl> & <dbl> & <dbl>\\\\\n\\hline\n\t 108.28 & 17.05 & 1484.10\\\\\n\t 152.36 & 16.59 &  750.33\\\\\n\t  95.04 & 10.91 &  766.42\\\\\n\t  65.45 & 14.14 & 1110.46\\\\\n\t  62.97 &  9.52 & 1031.29\\\\\n\t 263.99 & 25.33 &  195.26\\\\\n\t 265.19 & 18.54 &  193.83\\\\\n\t 285.06 & 15.73 &  191.11\\\\\n\t  92.01 &  8.10 & 1175.16\\\\\n\t 165.68 & 11.13 &  211.15\\\\\n\\end{tabular}\n",
            "text/plain": [
              "   x1     x2    x3     \n",
              "1  108.28 17.05 1484.10\n",
              "2  152.36 16.59  750.33\n",
              "3   95.04 10.91  766.42\n",
              "4   65.45 14.14 1110.46\n",
              "5   62.97  9.52 1031.29\n",
              "6  263.99 25.33  195.26\n",
              "7  265.19 18.54  193.83\n",
              "8  285.06 15.73  191.11\n",
              "9   92.01  8.10 1175.16\n",
              "10 165.68 11.13  211.15"
            ]
          },
          "metadata": {}
        }
      ]
    },
    {
      "cell_type": "code",
      "source": [
        "X_bar<-colMeans(z)\n",
        "X_bar"
      ],
      "metadata": {
        "colab": {
          "base_uri": "https://localhost:8080/",
          "height": 34
        },
        "id": "_LCdS2NA5BPN",
        "outputId": "552b9970-9321-4a99-befb-15a6a8e0c196"
      },
      "execution_count": 23,
      "outputs": [
        {
          "output_type": "display_data",
          "data": {
            "text/html": [
              "<style>\n",
              ".dl-inline {width: auto; margin:0; padding: 0}\n",
              ".dl-inline>dt, .dl-inline>dd {float: none; width: auto; display: inline-block}\n",
              ".dl-inline>dt::after {content: \":\\0020\"; padding-right: .5ex}\n",
              ".dl-inline>dt:not(:first-of-type) {padding-left: .5ex}\n",
              "</style><dl class=dl-inline><dt>x1</dt><dd>155.603</dd><dt>x2</dt><dd>14.704</dd><dt>x3</dt><dd>710.911</dd></dl>\n"
            ],
            "text/markdown": "x1\n:   155.603x2\n:   14.704x3\n:   710.911\n\n",
            "text/latex": "\\begin{description*}\n\\item[x1] 155.603\n\\item[x2] 14.704\n\\item[x3] 710.911\n\\end{description*}\n",
            "text/plain": [
              "     x1      x2      x3 \n",
              "155.603  14.704 710.911 "
            ]
          },
          "metadata": {}
        }
      ]
    },
    {
      "cell_type": "code",
      "source": [
        "X_bar<-t(X_bar)\n",
        "X_bar"
      ],
      "metadata": {
        "colab": {
          "base_uri": "https://localhost:8080/",
          "height": 146
        },
        "id": "pTJ_hpKo5J8L",
        "outputId": "fcfedbdd-4990-4831-c036-e9eed55e2e3a"
      },
      "execution_count": 25,
      "outputs": [
        {
          "output_type": "display_data",
          "data": {
            "text/html": [
              "<table class=\"dataframe\">\n",
              "<caption>A matrix: 3 × 1 of type dbl</caption>\n",
              "<tbody>\n",
              "\t<tr><th scope=row>x1</th><td>155.603</td></tr>\n",
              "\t<tr><th scope=row>x2</th><td> 14.704</td></tr>\n",
              "\t<tr><th scope=row>x3</th><td>710.911</td></tr>\n",
              "</tbody>\n",
              "</table>\n"
            ],
            "text/markdown": "\nA matrix: 3 × 1 of type dbl\n\n| x1 | 155.603 |\n| x2 |  14.704 |\n| x3 | 710.911 |\n\n",
            "text/latex": "A matrix: 3 × 1 of type dbl\n\\begin{tabular}{r|l}\n\tx1 & 155.603\\\\\n\tx2 &  14.704\\\\\n\tx3 & 710.911\\\\\n\\end{tabular}\n",
            "text/plain": [
              "   [,1]   \n",
              "x1 155.603\n",
              "x2  14.704\n",
              "x3 710.911"
            ]
          },
          "metadata": {}
        }
      ]
    },
    {
      "cell_type": "code",
      "source": [
        "S=cov(z)\n",
        "S\n",
        "S_inv<-solve(S)\n",
        "S_inv"
      ],
      "metadata": {
        "colab": {
          "base_uri": "https://localhost:8080/",
          "height": 304
        },
        "id": "6h2te6Z-5Un9",
        "outputId": "465ce2cd-00f9-440d-e64c-d9c0eb2186ba"
      },
      "execution_count": 32,
      "outputs": [
        {
          "output_type": "display_data",
          "data": {
            "text/html": [
              "<table class=\"dataframe\">\n",
              "<caption>A matrix: 3 × 3 of type dbl</caption>\n",
              "<thead>\n",
              "\t<tr><th></th><th scope=col>x1</th><th scope=col>x2</th><th scope=col>x3</th></tr>\n",
              "</thead>\n",
              "<tbody>\n",
              "\t<tr><th scope=row>x1</th><td>  7476.4532</td><td>  303.61862</td><td>-35575.960</td></tr>\n",
              "\t<tr><th scope=row>x2</th><td>   303.6186</td><td>   26.19032</td><td> -1053.827</td></tr>\n",
              "\t<tr><th scope=row>x3</th><td>-35575.9596</td><td>-1053.82739</td><td>237054.270</td></tr>\n",
              "</tbody>\n",
              "</table>\n"
            ],
            "text/markdown": "\nA matrix: 3 × 3 of type dbl\n\n| <!--/--> | x1 | x2 | x3 |\n|---|---|---|---|\n| x1 |   7476.4532 |   303.61862 | -35575.960 |\n| x2 |    303.6186 |    26.19032 |  -1053.827 |\n| x3 | -35575.9596 | -1053.82739 | 237054.270 |\n\n",
            "text/latex": "A matrix: 3 × 3 of type dbl\n\\begin{tabular}{r|lll}\n  & x1 & x2 & x3\\\\\n\\hline\n\tx1 &   7476.4532 &   303.61862 & -35575.960\\\\\n\tx2 &    303.6186 &    26.19032 &  -1053.827\\\\\n\tx3 & -35575.9596 & -1053.82739 & 237054.270\\\\\n\\end{tabular}\n",
            "text/plain": [
              "   x1          x2          x3        \n",
              "x1   7476.4532   303.61862 -35575.960\n",
              "x2    303.6186    26.19032  -1053.827\n",
              "x3 -35575.9596 -1053.82739 237054.270"
            ]
          },
          "metadata": {}
        },
        {
          "output_type": "display_data",
          "data": {
            "text/html": [
              "<table class=\"dataframe\">\n",
              "<caption>A matrix: 3 × 3 of type dbl</caption>\n",
              "<thead>\n",
              "\t<tr><th></th><th scope=col>x1</th><th scope=col>x2</th><th scope=col>x3</th></tr>\n",
              "</thead>\n",
              "<tbody>\n",
              "\t<tr><th scope=row>x1</th><td> 0.0008669686</td><td>-0.005864256</td><td> 1.040408e-04</td></tr>\n",
              "\t<tr><th scope=row>x2</th><td>-0.0058642561</td><td> 0.086166075</td><td>-4.970270e-04</td></tr>\n",
              "\t<tr><th scope=row>x3</th><td> 0.0001040408</td><td>-0.000497027</td><td> 1.762285e-05</td></tr>\n",
              "</tbody>\n",
              "</table>\n"
            ],
            "text/markdown": "\nA matrix: 3 × 3 of type dbl\n\n| <!--/--> | x1 | x2 | x3 |\n|---|---|---|---|\n| x1 |  0.0008669686 | -0.005864256 |  1.040408e-04 |\n| x2 | -0.0058642561 |  0.086166075 | -4.970270e-04 |\n| x3 |  0.0001040408 | -0.000497027 |  1.762285e-05 |\n\n",
            "text/latex": "A matrix: 3 × 3 of type dbl\n\\begin{tabular}{r|lll}\n  & x1 & x2 & x3\\\\\n\\hline\n\tx1 &  0.0008669686 & -0.005864256 &  1.040408e-04\\\\\n\tx2 & -0.0058642561 &  0.086166075 & -4.970270e-04\\\\\n\tx3 &  0.0001040408 & -0.000497027 &  1.762285e-05\\\\\n\\end{tabular}\n",
            "text/plain": [
              "   x1            x2           x3           \n",
              "x1  0.0008669686 -0.005864256  1.040408e-04\n",
              "x2 -0.0058642561  0.086166075 -4.970270e-04\n",
              "x3  0.0001040408 -0.000497027  1.762285e-05"
            ]
          },
          "metadata": {}
        }
      ]
    },
    {
      "cell_type": "code",
      "source": [
        "n=length(z[,1])\n",
        "n"
      ],
      "metadata": {
        "colab": {
          "base_uri": "https://localhost:8080/",
          "height": 34
        },
        "id": "yGguDX815cHe",
        "outputId": "2d95e751-3819-4a11-e41b-852b38b42367"
      },
      "execution_count": 29,
      "outputs": [
        {
          "output_type": "display_data",
          "data": {
            "text/html": [
              "10"
            ],
            "text/markdown": "10",
            "text/latex": "10",
            "text/plain": [
              "[1] 10"
            ]
          },
          "metadata": {}
        }
      ]
    },
    {
      "cell_type": "code",
      "source": [
        "D2<-matrix(0,nrow=10,ncol=1)\n",
        "for (i in 1:n){\n",
        "  D2[i]=t(t(z[i,]-X_bar))%*%S_inv%*%t(z[i,]-X_bar)\n",
        "}\n",
        "D2"
      ],
      "metadata": {
        "colab": {
          "base_uri": "https://localhost:8080/",
          "height": 383
        },
        "id": "DyFboPjP5l3N",
        "outputId": "4bca207e-f1d3-4fbe-e659-cae6b0cc313a"
      },
      "execution_count": 35,
      "outputs": [
        {
          "output_type": "display_data",
          "data": {
            "text/html": [
              "<table class=\"dataframe\">\n",
              "<caption>A matrix: 10 × 1 of type dbl</caption>\n",
              "<tbody>\n",
              "\t<tr><td>4.8364455</td></tr>\n",
              "\t<tr><td>0.3142263</td></tr>\n",
              "\t<tr><td>1.2894373</td></tr>\n",
              "\t<tr><td>2.0194923</td></tr>\n",
              "\t<tr><td>1.4072664</td></tr>\n",
              "\t<tr><td>4.9090461</td></tr>\n",
              "\t<tr><td>1.6418144</td></tr>\n",
              "\t<tr><td>4.3520262</td></tr>\n",
              "\t<tr><td>3.0411050</td></tr>\n",
              "\t<tr><td>3.1891403</td></tr>\n",
              "</tbody>\n",
              "</table>\n"
            ],
            "text/markdown": "\nA matrix: 10 × 1 of type dbl\n\n| 4.8364455 |\n| 0.3142263 |\n| 1.2894373 |\n| 2.0194923 |\n| 1.4072664 |\n| 4.9090461 |\n| 1.6418144 |\n| 4.3520262 |\n| 3.0411050 |\n| 3.1891403 |\n\n",
            "text/latex": "A matrix: 10 × 1 of type dbl\n\\begin{tabular}{l}\n\t 4.8364455\\\\\n\t 0.3142263\\\\\n\t 1.2894373\\\\\n\t 2.0194923\\\\\n\t 1.4072664\\\\\n\t 4.9090461\\\\\n\t 1.6418144\\\\\n\t 4.3520262\\\\\n\t 3.0411050\\\\\n\t 3.1891403\\\\\n\\end{tabular}\n",
            "text/plain": [
              "      [,1]     \n",
              " [1,] 4.8364455\n",
              " [2,] 0.3142263\n",
              " [3,] 1.2894373\n",
              " [4,] 2.0194923\n",
              " [5,] 1.4072664\n",
              " [6,] 4.9090461\n",
              " [7,] 1.6418144\n",
              " [8,] 4.3520262\n",
              " [9,] 3.0411050\n",
              "[10,] 3.1891403"
            ]
          },
          "metadata": {}
        }
      ]
    },
    {
      "cell_type": "code",
      "source": [
        "D2_s=sort(D2,decreasing = F)\n",
        "j=matrix(seq(1,n),n,1)\n",
        "qj=qchisq((j-0.5)/n,2)\n"
      ],
      "metadata": {
        "id": "GnlfO4QzAA7H"
      },
      "execution_count": 38,
      "outputs": []
    },
    {
      "cell_type": "code",
      "source": [
        "plot(qj,D2_s)"
      ],
      "metadata": {
        "colab": {
          "base_uri": "https://localhost:8080/",
          "height": 437
        },
        "id": "VVAMGRK4Au4k",
        "outputId": "1e665713-4426-4701-aa0e-e1d382c3217d"
      },
      "execution_count": 39,
      "outputs": [
        {
          "output_type": "display_data",
          "data": {
            "text/plain": [
              "plot without title"
            ],
            "image/png": "[encoded data removed]"
          },
          "metadata": {
            "image/png": {
              "width": 420,
              "height": 420
            }
          }
        }
      ]
    },
    {
      "cell_type": "code",
      "source": [
        "In this graph show there is not follow the multivariate normal distribution."
      ],
      "metadata": {
        "id": "9AFoBNBtBNtv"
      },
      "execution_count": null,
      "outputs": []
    }
  ]
}